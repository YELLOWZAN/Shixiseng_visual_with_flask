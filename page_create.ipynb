{
 "cells": [
  {
   "cell_type": "code",
   "execution_count": 1,
   "metadata": {
    "pycharm": {
     "name": "#%%\n"
    }
   },
   "outputs": [],
   "source": [
    "import jieba\n",
    "import collections\n",
    "import re\n",
    "from pyecharts.charts import WordCloud,Page,Bar,Line,Boxplot,TreeMap,Scatter\n",
    "from pyecharts.globals import SymbolType\n",
    "from pyecharts import options as opts\n",
    "from pyecharts.globals import ThemeType, CurrentConfig\n",
    "import pandas as pd"
   ]
  },
  {
   "cell_type": "code",
   "execution_count": 2,
   "metadata": {
    "pycharm": {
     "name": "#%%\n"
    }
   },
   "outputs": [],
   "source": [
    "data = pd.read_csv('./data_clear/clean_data/实习僧数据清洗1.csv',encoding='gb18030')"
   ]
  },
  {
   "cell_type": "code",
   "execution_count": null,
   "outputs": [],
   "source": [
    "import pandas as pd\n",
    "import jieba\n",
    "from pyecharts.charts import WordCloud\n",
    "\n",
    "# 对评论进行中文分词\n",
    "comments = ' '.join(data['省份'].astype(str))\n",
    "word_list = jieba.lcut(comments)\n",
    "\n",
    "# 统计词频\n",
    "word_freq = {}\n",
    "for word in word_list:\n",
    "    if word in word_freq:\n",
    "        word_freq[word] += 1\n",
    "    else:\n",
    "        word_freq[word] = 1\n",
    "\n",
    "wordcloud = (\n",
    "    WordCloud()\n",
    "    .add(\"\", list(word_freq.items()), word_size_range=[20, 100])\n",
    "    .set_global_opts(title_opts=opts.TitleOpts(title=\"省份优先考虑\"))\n",
    ")\n",
    "\n",
    "wordcloud.render_notebook()"
   ],
   "metadata": {
    "collapsed": false,
    "pycharm": {
     "name": "#%%\n"
    }
   }
  },
  {
   "cell_type": "code",
   "execution_count": null,
   "outputs": [],
   "source": [
    "import pandas as pd\n",
    "from pyecharts import options as opts\n",
    "from pyecharts.charts import Bar\n",
    "\n",
    "# 统计地区频数\n",
    "region_counts = data['实习周期'].value_counts()\n",
    "\n",
    "# 提取地区和频数数据\n",
    "regions = region_counts.index.tolist()\n",
    "counts = region_counts.tolist()\n",
    "\n",
    "# 生成直方图\n",
    "bar = (\n",
    "    Bar()\n",
    "    .add_xaxis(regions)\n",
    "    .add_yaxis(\"\", counts)\n",
    "    .set_global_opts(title_opts=opts.TitleOpts(title=\"实习期分布\"),\n",
    "                     xaxis_opts=opts.AxisOpts(axislabel_opts=opts.LabelOpts(rotate=-45)),\n",
    "                     yaxis_opts=opts.AxisOpts(name=\"Count\"))\n",
    ")\n",
    "\n",
    "bar.render_notebook()\n"
   ],
   "metadata": {
    "collapsed": false,
    "pycharm": {
     "name": "#%%\n"
    }
   }
  },
  {
   "cell_type": "code",
   "execution_count": null,
   "outputs": [],
   "source": [
    "data.head(0)"
   ],
   "metadata": {
    "collapsed": false,
    "pycharm": {
     "name": "#%%\n"
    }
   }
  },
  {
   "cell_type": "code",
   "execution_count": null,
   "outputs": [],
   "source": [
    "# 统计地区频数\n",
    "chuqin_counts = data['出勤要求'].value_counts()\n",
    "\n",
    "# 提取出勤和频数数据\n",
    "chuqin = chuqin_counts.index.tolist()\n",
    "counts = chuqin_counts.tolist()\n",
    "\n",
    "# 生成直方图\n",
    "bar = (\n",
    "    Bar()\n",
    "    .add_xaxis(chuqin)\n",
    "    .add_yaxis(\"\", counts)\n",
    "    .set_global_opts(title_opts=opts.TitleOpts(title=\"出勤分布\"),\n",
    "                     xaxis_opts=opts.AxisOpts(axislabel_opts=opts.LabelOpts(rotate=-45)),\n",
    "                     yaxis_opts=opts.AxisOpts(name=\"Count\"))\n",
    ")\n",
    "\n",
    "bar.render(\"./templates/出勤频率分布.html\")"
   ],
   "metadata": {
    "collapsed": false,
    "pycharm": {
     "name": "#%%\n"
    }
   }
  },
  {
   "cell_type": "code",
   "execution_count": null,
   "outputs": [],
   "source": [
    "import pandas as pd\n",
    "import jieba\n",
    "from pyecharts.charts import WordCloud\n",
    "\n",
    "# 对评论进行中文分词\n",
    "comments = ' '.join(data['职位福利'].astype(str))\n",
    "word_list = jieba.lcut(comments)\n",
    "\n",
    "# 统计词频\n",
    "word_freq = {}\n",
    "for word in word_list:\n",
    "    if word in word_freq:\n",
    "        word_freq[word] += 1\n",
    "    else:\n",
    "        word_freq[word] = 1\n",
    "\n",
    "wordcloud = (\n",
    "    WordCloud()\n",
    "    .add(\"\", list(word_freq.items()), word_size_range=[20, 100])\n",
    "    .set_global_opts(title_opts=opts.TitleOpts(title=\"职位福利待遇\"))\n",
    ")\n",
    "\n",
    "wordcloud.render(\"./templates/职位福利待遇.html\")"
   ],
   "metadata": {
    "collapsed": false,
    "pycharm": {
     "name": "#%%\n"
    }
   }
  },
  {
   "cell_type": "code",
   "execution_count": null,
   "outputs": [],
   "source": [
    "import pandas as pd\n",
    "import jieba\n",
    "from pyecharts.charts import WordCloud\n",
    "\n",
    "# 对评论进行中文分词\n",
    "comments = ' '.join(data['所属行业'].astype(str))\n",
    "word_list = jieba.lcut(comments)\n",
    "\n",
    "# 统计词频\n",
    "word_freq = {}\n",
    "for word in word_list:\n",
    "    if word in word_freq:\n",
    "        word_freq[word] += 1\n",
    "    else:\n",
    "        word_freq[word] = 1\n",
    "\n",
    "wordcloud = (\n",
    "    WordCloud()\n",
    "    .add(\"\", list(word_freq.items()), word_size_range=[20, 100])\n",
    "    .set_global_opts(title_opts=opts.TitleOpts(title=\"所属行业分布\"))\n",
    ")\n",
    "\n",
    "wordcloud.render(\"./templates/所属行业分布图.html\")"
   ],
   "metadata": {
    "collapsed": false,
    "pycharm": {
     "name": "#%%\n"
    }
   }
  },
  {
   "cell_type": "code",
   "execution_count": null,
   "outputs": [],
   "source": [
    "source_data = pd.read_excel('./pa_chong/data/实习僧大数据岗位.xls')"
   ],
   "metadata": {
    "collapsed": false,
    "pycharm": {
     "name": "#%%\n"
    }
   }
  },
  {
   "cell_type": "code",
   "execution_count": null,
   "outputs": [],
   "source": [
    "source_data.head(1)"
   ],
   "metadata": {
    "collapsed": false,
    "pycharm": {
     "name": "#%%\n"
    }
   }
  },
  {
   "cell_type": "code",
   "execution_count": null,
   "outputs": [],
   "source": [
    "import pandas as pd\n",
    "from pyecharts import options as opts\n",
    "from pyecharts.charts import Bar\n",
    "\n",
    "# 统计地区频数\n",
    "money_counts = source_data['工资'].value_counts()\n",
    "\n",
    "# 提取地区和频数数据\n",
    "money = money_counts.index.tolist()\n",
    "counts = money_counts.tolist()\n",
    "\n",
    "# 生成直方图\n",
    "bar = (\n",
    "    Bar()\n",
    "    .add_xaxis(money)\n",
    "    .add_yaxis(\"\", counts)\n",
    "    .set_global_opts(title_opts=opts.TitleOpts(title=\"工资分布\"),\n",
    "                     xaxis_opts=opts.AxisOpts(axislabel_opts=opts.LabelOpts(rotate=-45)),\n",
    "                     yaxis_opts=opts.AxisOpts(name=\"Count\"))\n",
    ")\n",
    "\n",
    "bar.render(\"./templates/工资分布.html\")\n"
   ],
   "metadata": {
    "collapsed": false,
    "pycharm": {
     "name": "#%%\n"
    }
   }
  },
  {
   "cell_type": "code",
   "execution_count": 7,
   "metadata": {
    "pycharm": {
     "name": "#%%\n"
    }
   },
   "outputs": [
    {
     "data": {
      "text/plain": [
       "'e:\\\\可视化\\\\项目1\\\\templates\\\\出勤频率分布.html'"
      ]
     },
     "execution_count": 7,
     "metadata": {},
     "output_type": "execute_result"
    }
   ],
   "source": [
    "# 统计地区频数\n",
    "chuqin_counts = data['出勤要求'].value_counts()\n",
    "\n",
    "# 提取出勤和频数数据\n",
    "chuqin = chuqin_counts.index.tolist()\n",
    "counts = chuqin_counts.tolist()\n",
    "\n",
    "# 生成直方图\n",
    "bar = (\n",
    "    Bar()\n",
    "    .add_xaxis(chuqin)\n",
    "    .add_yaxis(\"\", counts)\n",
    "    .set_global_opts(title_opts=opts.TitleOpts(title=\"出勤分布\"),\n",
    "                     xaxis_opts=opts.AxisOpts(axislabel_opts=opts.LabelOpts(rotate=-45)),\n",
    "                     yaxis_opts=opts.AxisOpts(name=\"Count\"))\n",
    ")\n",
    "\n",
    "bar.render(\"./templates/出勤频率分布.html\")"
   ]
  },
  {
   "cell_type": "code",
   "execution_count": 9,
   "metadata": {},
   "outputs": [
    {
     "data": {
      "text/plain": [
       "'e:\\\\可视化\\\\项目1\\\\templates\\\\职位福利待遇.html'"
      ]
     },
     "execution_count": 9,
     "metadata": {},
     "output_type": "execute_result"
    }
   ],
   "source": [
    "import pandas as pd\n",
    "import jieba\n",
    "from pyecharts.charts import WordCloud\n",
    "\n",
    "# 对评论进行中文分词\n",
    "comments = ' '.join(data['职位福利'].astype(str))\n",
    "word_list = jieba.lcut(comments)\n",
    "\n",
    "# 统计词频\n",
    "word_freq = {}\n",
    "for word in word_list:\n",
    "    if word in word_freq:\n",
    "        word_freq[word] += 1\n",
    "    else:\n",
    "        word_freq[word] = 1\n",
    "\n",
    "wordcloud = (\n",
    "    WordCloud()\n",
    "    .add(\"\", list(word_freq.items()), word_size_range=[20, 100])\n",
    "    .set_global_opts(title_opts=opts.TitleOpts(title=\"职位福利待遇\"))\n",
    ")\n",
    "\n",
    "wordcloud.render(\"./templates/职位福利待遇.html\")"
   ]
  },
  {
   "cell_type": "code",
   "execution_count": 10,
   "metadata": {},
   "outputs": [
    {
     "data": {
      "text/plain": [
       "'e:\\\\可视化\\\\项目1\\\\templates\\\\所属行业分布图.html'"
      ]
     },
     "execution_count": 10,
     "metadata": {},
     "output_type": "execute_result"
    }
   ],
   "source": [
    "import pandas as pd\n",
    "import jieba\n",
    "from pyecharts.charts import WordCloud\n",
    "\n",
    "# 对评论进行中文分词\n",
    "comments = ' '.join(data['所属行业'].astype(str))\n",
    "word_list = jieba.lcut(comments)\n",
    "\n",
    "# 统计词频\n",
    "word_freq = {}\n",
    "for word in word_list:\n",
    "    if word in word_freq:\n",
    "        word_freq[word] += 1\n",
    "    else:\n",
    "        word_freq[word] = 1\n",
    "\n",
    "wordcloud = (\n",
    "    WordCloud()\n",
    "    .add(\"\", list(word_freq.items()), word_size_range=[20, 100])\n",
    "    .set_global_opts(title_opts=opts.TitleOpts(title=\"所属行业分布\"))\n",
    ")\n",
    "\n",
    "wordcloud.render(\"./templates/所属行业分布图.html\")"
   ]
  },
  {
   "cell_type": "code",
   "execution_count": 11,
   "metadata": {},
   "outputs": [],
   "source": [
    "source_data = pd.read_excel('./pa_chong/data/实习僧大数据岗位.xls')"
   ]
  },
  {
   "cell_type": "code",
   "execution_count": 13,
   "metadata": {},
   "outputs": [
    {
     "data": {
      "text/html": [
       "<div>\n",
       "<style scoped>\n",
       "    .dataframe tbody tr th:only-of-type {\n",
       "        vertical-align: middle;\n",
       "    }\n",
       "\n",
       "    .dataframe tbody tr th {\n",
       "        vertical-align: top;\n",
       "    }\n",
       "\n",
       "    .dataframe thead th {\n",
       "        text-align: right;\n",
       "    }\n",
       "</style>\n",
       "<table border=\"1\" class=\"dataframe\">\n",
       "  <thead>\n",
       "    <tr style=\"text-align: right;\">\n",
       "      <th></th>\n",
       "      <th>职位名称</th>\n",
       "      <th>工资</th>\n",
       "      <th>城市</th>\n",
       "      <th>出勤要求</th>\n",
       "      <th>实习周期</th>\n",
       "      <th>职位福利</th>\n",
       "      <th>公司名称</th>\n",
       "      <th>所属行业</th>\n",
       "      <th>公司规模</th>\n",
       "      <th>投递链接</th>\n",
       "    </tr>\n",
       "  </thead>\n",
       "  <tbody>\n",
       "    <tr>\n",
       "      <th>0</th>\n",
       "      <td>大数据工程师</td>\n",
       "      <td>120-200/天</td>\n",
       "      <td>南京</td>\n",
       "      <td>4天/周</td>\n",
       "      <td>4个月</td>\n",
       "      <td>福利健全，地铁边，快速成长空间，直接参与项目，留用转正机会，学习型组织，年轻态</td>\n",
       "      <td>焦点科技</td>\n",
       "      <td>互联网/游戏/软件</td>\n",
       "      <td>2000人以上</td>\n",
       "      <td>https://www.shixiseng.com/intern/inn_ccmmhmhpr...</td>\n",
       "    </tr>\n",
       "  </tbody>\n",
       "</table>\n",
       "</div>"
      ],
      "text/plain": [
       "     职位名称         工资  城市  出勤要求 实习周期                                     职位福利   \n",
       "0  大数据工程师  120-200/天  南京  4天/周  4个月  福利健全，地铁边，快速成长空间，直接参与项目，留用转正机会，学习型组织，年轻态  \\\n",
       "\n",
       "   公司名称       所属行业     公司规模                                               投递链接  \n",
       "0  焦点科技  互联网/游戏/软件  2000人以上  https://www.shixiseng.com/intern/inn_ccmmhmhpr...  "
      ]
     },
     "execution_count": 13,
     "metadata": {},
     "output_type": "execute_result"
    }
   ],
   "source": [
    "source_data.head(1)"
   ]
  },
  {
   "cell_type": "code",
   "execution_count": 17,
   "metadata": {},
   "outputs": [
    {
     "data": {
      "text/plain": [
       "'e:\\\\可视化\\\\项目1\\\\templates\\\\工资分布.html'"
      ]
     },
     "execution_count": 17,
     "metadata": {},
     "output_type": "execute_result"
    }
   ],
   "source": [
    "import pandas as pd\n",
    "from pyecharts import options as opts\n",
    "from pyecharts.charts import Bar\n",
    "\n",
    "# 统计地区频数\n",
    "money_counts = source_data['工资'].value_counts()\n",
    "\n",
    "# 提取地区和频数数据\n",
    "money = money_counts.index.tolist()\n",
    "counts = money_counts.tolist()\n",
    "\n",
    "# 生成直方图\n",
    "bar = (\n",
    "    Bar()\n",
    "    .add_xaxis(money)\n",
    "    .add_yaxis(\"\", counts)\n",
    "    .set_global_opts(title_opts=opts.TitleOpts(title=\"工资分布\"),\n",
    "                     xaxis_opts=opts.AxisOpts(axislabel_opts=opts.LabelOpts(rotate=-45)),\n",
    "                     yaxis_opts=opts.AxisOpts(name=\"Count\"))\n",
    ")\n",
    "\n",
    "bar.render(\"./templates/工资分布.html\")\n"
   ]
  },
  {
   "cell_type": "code",
   "execution_count": null,
   "metadata": {},
   "outputs": [],
   "source": []
  }
 ],
 "metadata": {
  "kernelspec": {
   "display_name": "venv",
   "language": "python",
   "name": "python3"
  },
  "language_info": {
   "codemirror_mode": {
    "name": "ipython",
    "version": 3
   },
   "file_extension": ".py",
   "mimetype": "text/x-python",
   "name": "python",
   "nbconvert_exporter": "python",
   "pygments_lexer": "ipython3",
   "version": "3.9.10"
  },
  "orig_nbformat": 4
 },
 "nbformat": 4,
 "nbformat_minor": 2
}