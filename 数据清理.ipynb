{
 "cells": [
  {
   "attachments": {},
   "cell_type": "markdown",
   "metadata": {},
   "source": [
    "# 对网站数据进行清洗"
   ]
  },
  {
   "cell_type": "code",
   "execution_count": 1,
   "metadata": {},
   "outputs": [],
   "source": [
    "import re\n",
    "import pandas as pd\n",
    "import numpy as np"
   ]
  },
  {
   "cell_type": "code",
   "execution_count": 2,
   "metadata": {},
   "outputs": [],
   "source": [
    "data1 = pd.read_excel('./pa_chong/data/实习僧大数据岗位.xls')\n",
    "data2 = pd.read_excel('./pa_chong/data/实习僧数据分析岗位.xls')\n",
    "data3 = pd.read_excel('./pa_chong/data/实习僧数据挖掘岗位.xls')"
   ]
  },
  {
   "cell_type": "code",
   "execution_count": 3,
   "metadata": {},
   "outputs": [
    {
     "data": {
      "text/html": [
       "<div>\n",
       "<style scoped>\n",
       "    .dataframe tbody tr th:only-of-type {\n",
       "        vertical-align: middle;\n",
       "    }\n",
       "\n",
       "    .dataframe tbody tr th {\n",
       "        vertical-align: top;\n",
       "    }\n",
       "\n",
       "    .dataframe thead th {\n",
       "        text-align: right;\n",
       "    }\n",
       "</style>\n",
       "<table border=\"1\" class=\"dataframe\">\n",
       "  <thead>\n",
       "    <tr style=\"text-align: right;\">\n",
       "      <th></th>\n",
       "      <th>职位名称</th>\n",
       "      <th>工资</th>\n",
       "      <th>城市</th>\n",
       "      <th>出勤要求</th>\n",
       "      <th>实习周期</th>\n",
       "      <th>职位福利</th>\n",
       "      <th>公司名称</th>\n",
       "      <th>所属行业</th>\n",
       "      <th>公司规模</th>\n",
       "      <th>投递链接</th>\n",
       "    </tr>\n",
       "  </thead>\n",
       "  <tbody>\n",
       "    <tr>\n",
       "      <th>0</th>\n",
       "      <td>大数据工程师</td>\n",
       "      <td>120-200/天</td>\n",
       "      <td>南京</td>\n",
       "      <td>4天/周</td>\n",
       "      <td>4个月</td>\n",
       "      <td>福利健全，地铁边，快速成长空间，直接参与项目，留用转正机会，学习型组织，年轻态</td>\n",
       "      <td>焦点科技</td>\n",
       "      <td>互联网/游戏/软件</td>\n",
       "      <td>2000人以上</td>\n",
       "      <td>https://www.shixiseng.com/intern/inn_ccmmhmhpr...</td>\n",
       "    </tr>\n",
       "    <tr>\n",
       "      <th>1</th>\n",
       "      <td>大数据实习生</td>\n",
       "      <td>100-150/天</td>\n",
       "      <td>北京</td>\n",
       "      <td>5天/周</td>\n",
       "      <td>3个月</td>\n",
       "      <td>福利好，学习机会多</td>\n",
       "      <td>新浪微博</td>\n",
       "      <td>互联网/游戏/软件</td>\n",
       "      <td>2000人以上</td>\n",
       "      <td>https://www.shixiseng.com/intern/inn_ez8n9imdo...</td>\n",
       "    </tr>\n",
       "  </tbody>\n",
       "</table>\n",
       "</div>"
      ],
      "text/plain": [
       "     职位名称         工资  城市  出勤要求 实习周期                                     职位福利   \n",
       "0  大数据工程师  120-200/天  南京  4天/周  4个月  福利健全，地铁边，快速成长空间，直接参与项目，留用转正机会，学习型组织，年轻态  \\\n",
       "1  大数据实习生  100-150/天  北京  5天/周  3个月                                福利好，学习机会多   \n",
       "\n",
       "   公司名称       所属行业     公司规模                                               投递链接  \n",
       "0  焦点科技  互联网/游戏/软件  2000人以上  https://www.shixiseng.com/intern/inn_ccmmhmhpr...  \n",
       "1  新浪微博  互联网/游戏/软件  2000人以上  https://www.shixiseng.com/intern/inn_ez8n9imdo...  "
      ]
     },
     "execution_count": 3,
     "metadata": {},
     "output_type": "execute_result"
    }
   ],
   "source": [
    "data1.head(2)"
   ]
  },
  {
   "cell_type": "code",
   "execution_count": 4,
   "metadata": {},
   "outputs": [
    {
     "data": {
      "text/html": [
       "<div>\n",
       "<style scoped>\n",
       "    .dataframe tbody tr th:only-of-type {\n",
       "        vertical-align: middle;\n",
       "    }\n",
       "\n",
       "    .dataframe tbody tr th {\n",
       "        vertical-align: top;\n",
       "    }\n",
       "\n",
       "    .dataframe thead th {\n",
       "        text-align: right;\n",
       "    }\n",
       "</style>\n",
       "<table border=\"1\" class=\"dataframe\">\n",
       "  <thead>\n",
       "    <tr style=\"text-align: right;\">\n",
       "      <th></th>\n",
       "      <th>职位名称</th>\n",
       "      <th>工资</th>\n",
       "      <th>城市</th>\n",
       "      <th>出勤要求</th>\n",
       "      <th>实习周期</th>\n",
       "      <th>职位福利</th>\n",
       "      <th>公司名称</th>\n",
       "      <th>所属行业</th>\n",
       "      <th>公司规模</th>\n",
       "      <th>投递链接</th>\n",
       "    </tr>\n",
       "  </thead>\n",
       "  <tbody>\n",
       "    <tr>\n",
       "      <th>0</th>\n",
       "      <td>数据分析</td>\n",
       "      <td>150-300/天</td>\n",
       "      <td>太原</td>\n",
       "      <td>5天/周</td>\n",
       "      <td>3个月</td>\n",
       "      <td>锻炼自我，专业、活力、创造，nice氛围，创新，福利，1对1导师制</td>\n",
       "      <td>京东</td>\n",
       "      <td>互联网/游戏/软件</td>\n",
       "      <td>2000人以上</td>\n",
       "      <td>https://www.shixiseng.com/intern/inn_h9nd2uzfk...</td>\n",
       "    </tr>\n",
       "    <tr>\n",
       "      <th>1</th>\n",
       "      <td>数据分析</td>\n",
       "      <td>150-180/天</td>\n",
       "      <td>苏州</td>\n",
       "      <td>5天/周</td>\n",
       "      <td>6个月</td>\n",
       "      <td>物联网，人工智能，大数据，软件开发，嵌入式，云服务</td>\n",
       "      <td>博世中国</td>\n",
       "      <td>汽车/机械/制造</td>\n",
       "      <td>2000人以上</td>\n",
       "      <td>https://www.shixiseng.com/intern/inn_8in5iajxt...</td>\n",
       "    </tr>\n",
       "  </tbody>\n",
       "</table>\n",
       "</div>"
      ],
      "text/plain": [
       "   职位名称         工资  城市  出勤要求 实习周期                               职位福利  公司名称   \n",
       "0  数据分析  150-300/天  太原  5天/周  3个月  锻炼自我，专业、活力、创造，nice氛围，创新，福利，1对1导师制    京东  \\\n",
       "1  数据分析  150-180/天  苏州  5天/周  6个月          物联网，人工智能，大数据，软件开发，嵌入式，云服务  博世中国   \n",
       "\n",
       "        所属行业     公司规模                                               投递链接  \n",
       "0  互联网/游戏/软件  2000人以上  https://www.shixiseng.com/intern/inn_h9nd2uzfk...  \n",
       "1   汽车/机械/制造  2000人以上  https://www.shixiseng.com/intern/inn_8in5iajxt...  "
      ]
     },
     "execution_count": 4,
     "metadata": {},
     "output_type": "execute_result"
    }
   ],
   "source": [
    "data2.head(2)"
   ]
  },
  {
   "cell_type": "code",
   "execution_count": 5,
   "metadata": {},
   "outputs": [
    {
     "data": {
      "text/html": [
       "<div>\n",
       "<style scoped>\n",
       "    .dataframe tbody tr th:only-of-type {\n",
       "        vertical-align: middle;\n",
       "    }\n",
       "\n",
       "    .dataframe tbody tr th {\n",
       "        vertical-align: top;\n",
       "    }\n",
       "\n",
       "    .dataframe thead th {\n",
       "        text-align: right;\n",
       "    }\n",
       "</style>\n",
       "<table border=\"1\" class=\"dataframe\">\n",
       "  <thead>\n",
       "    <tr style=\"text-align: right;\">\n",
       "      <th></th>\n",
       "      <th>职位名称</th>\n",
       "      <th>工资</th>\n",
       "      <th>城市</th>\n",
       "      <th>出勤要求</th>\n",
       "      <th>实习周期</th>\n",
       "      <th>职位福利</th>\n",
       "      <th>公司名称</th>\n",
       "      <th>所属行业</th>\n",
       "      <th>公司规模</th>\n",
       "      <th>投递链接</th>\n",
       "    </tr>\n",
       "  </thead>\n",
       "  <tbody>\n",
       "    <tr>\n",
       "      <th>0</th>\n",
       "      <td>数据挖掘实习生</td>\n",
       "      <td>120-180/天</td>\n",
       "      <td>成都</td>\n",
       "      <td>5天/周</td>\n",
       "      <td>6个月</td>\n",
       "      <td>优秀的团队，技术，留用转正机会</td>\n",
       "      <td>亚信科技</td>\n",
       "      <td>互联网/游戏/软件</td>\n",
       "      <td>2000人以上</td>\n",
       "      <td>https://www.shixiseng.com/intern/inn_ni6zhx0ri...</td>\n",
       "    </tr>\n",
       "    <tr>\n",
       "      <th>1</th>\n",
       "      <td>数据挖掘实习生</td>\n",
       "      <td>100-150/天</td>\n",
       "      <td>成都</td>\n",
       "      <td>5天/周</td>\n",
       "      <td>4个月</td>\n",
       "      <td>金融科技，专业团队，公司氛围好，成长空间大，90后为主</td>\n",
       "      <td>量子数能</td>\n",
       "      <td>互联网/游戏/软件</td>\n",
       "      <td>50-150人</td>\n",
       "      <td>https://www.shixiseng.com/intern/inn_uzsruw8ug...</td>\n",
       "    </tr>\n",
       "  </tbody>\n",
       "</table>\n",
       "</div>"
      ],
      "text/plain": [
       "      职位名称         工资  城市  出勤要求 实习周期                         职位福利  公司名称   \n",
       "0  数据挖掘实习生  120-180/天  成都  5天/周  6个月              优秀的团队，技术，留用转正机会  亚信科技  \\\n",
       "1  数据挖掘实习生  100-150/天  成都  5天/周  4个月  金融科技，专业团队，公司氛围好，成长空间大，90后为主  量子数能   \n",
       "\n",
       "        所属行业     公司规模                                               投递链接  \n",
       "0  互联网/游戏/软件  2000人以上  https://www.shixiseng.com/intern/inn_ni6zhx0ri...  \n",
       "1  互联网/游戏/软件  50-150人  https://www.shixiseng.com/intern/inn_uzsruw8ug...  "
      ]
     },
     "execution_count": 5,
     "metadata": {},
     "output_type": "execute_result"
    }
   ],
   "source": [
    "data3.head(2)"
   ]
  },
  {
   "attachments": {},
   "cell_type": "markdown",
   "metadata": {},
   "source": [
    "# 对三个文件分别进行去重去缺失值"
   ]
  },
  {
   "cell_type": "code",
   "execution_count": 6,
   "metadata": {},
   "outputs": [
    {
     "data": {
      "text/plain": [
       "职位名称    0.0\n",
       "工资      0.0\n",
       "城市      0.0\n",
       "出勤要求    0.0\n",
       "实习周期    0.0\n",
       "职位福利    0.0\n",
       "公司名称    0.0\n",
       "所属行业    0.0\n",
       "公司规模    0.0\n",
       "投递链接    0.0\n",
       "dtype: float64"
      ]
     },
     "execution_count": 6,
     "metadata": {},
     "output_type": "execute_result"
    }
   ],
   "source": [
    "data1.isnull().mean()"
   ]
  },
  {
   "cell_type": "code",
   "execution_count": 7,
   "metadata": {},
   "outputs": [
    {
     "data": {
      "text/plain": [
       "职位名称    0.0\n",
       "工资      0.0\n",
       "城市      0.0\n",
       "出勤要求    0.0\n",
       "实习周期    0.0\n",
       "职位福利    0.0\n",
       "公司名称    0.0\n",
       "所属行业    0.0\n",
       "公司规模    0.0\n",
       "投递链接    0.0\n",
       "dtype: float64"
      ]
     },
     "execution_count": 7,
     "metadata": {},
     "output_type": "execute_result"
    }
   ],
   "source": [
    "data2.isnull().mean()"
   ]
  },
  {
   "cell_type": "code",
   "execution_count": 8,
   "metadata": {},
   "outputs": [
    {
     "data": {
      "text/plain": [
       "职位名称    0.0\n",
       "工资      0.0\n",
       "城市      0.0\n",
       "出勤要求    0.0\n",
       "实习周期    0.0\n",
       "职位福利    0.0\n",
       "公司名称    0.0\n",
       "所属行业    0.0\n",
       "公司规模    0.0\n",
       "投递链接    0.0\n",
       "dtype: float64"
      ]
     },
     "execution_count": 8,
     "metadata": {},
     "output_type": "execute_result"
    }
   ],
   "source": [
    "data3.isnull().mean()"
   ]
  },
  {
   "attachments": {},
   "cell_type": "markdown",
   "metadata": {},
   "source": [
    "小声bibi：没有缺失！！"
   ]
  },
  {
   "cell_type": "code",
   "execution_count": 9,
   "metadata": {},
   "outputs": [
    {
     "name": "stdout",
     "output_type": "stream",
     "text": [
      "(884, 10)\n",
      "(1043, 10)\n",
      "(846, 10)\n"
     ]
    }
   ],
   "source": [
    "print(data1.shape)\n",
    "print(data2.shape)\n",
    "print(data3.shape)"
   ]
  },
  {
   "attachments": {},
   "cell_type": "markdown",
   "metadata": {},
   "source": [
    "对薪水字段重新编码\n"
   ]
  },
  {
   "cell_type": "code",
   "execution_count": 10,
   "metadata": {},
   "outputs": [
    {
     "data": {
      "text/html": [
       "<div>\n",
       "<style scoped>\n",
       "    .dataframe tbody tr th:only-of-type {\n",
       "        vertical-align: middle;\n",
       "    }\n",
       "\n",
       "    .dataframe tbody tr th {\n",
       "        vertical-align: top;\n",
       "    }\n",
       "\n",
       "    .dataframe thead th {\n",
       "        text-align: right;\n",
       "    }\n",
       "</style>\n",
       "<table border=\"1\" class=\"dataframe\">\n",
       "  <thead>\n",
       "    <tr style=\"text-align: right;\">\n",
       "      <th></th>\n",
       "      <th>职位名称</th>\n",
       "      <th>工资</th>\n",
       "      <th>城市</th>\n",
       "      <th>出勤要求</th>\n",
       "      <th>实习周期</th>\n",
       "      <th>职位福利</th>\n",
       "      <th>公司名称</th>\n",
       "      <th>所属行业</th>\n",
       "      <th>公司规模</th>\n",
       "      <th>投递链接</th>\n",
       "    </tr>\n",
       "  </thead>\n",
       "  <tbody>\n",
       "    <tr>\n",
       "      <th>0</th>\n",
       "      <td>大数据工程师</td>\n",
       "      <td>120-200/天</td>\n",
       "      <td>南京</td>\n",
       "      <td>4天/周</td>\n",
       "      <td>4个月</td>\n",
       "      <td>福利健全，地铁边，快速成长空间，直接参与项目，留用转正机会，学习型组织，年轻态</td>\n",
       "      <td>焦点科技</td>\n",
       "      <td>互联网/游戏/软件</td>\n",
       "      <td>2000人以上</td>\n",
       "      <td>https://www.shixiseng.com/intern/inn_ccmmhmhpr...</td>\n",
       "    </tr>\n",
       "    <tr>\n",
       "      <th>1</th>\n",
       "      <td>大数据实习生</td>\n",
       "      <td>100-150/天</td>\n",
       "      <td>北京</td>\n",
       "      <td>5天/周</td>\n",
       "      <td>3个月</td>\n",
       "      <td>福利好，学习机会多</td>\n",
       "      <td>新浪微博</td>\n",
       "      <td>互联网/游戏/软件</td>\n",
       "      <td>2000人以上</td>\n",
       "      <td>https://www.shixiseng.com/intern/inn_ez8n9imdo...</td>\n",
       "    </tr>\n",
       "  </tbody>\n",
       "</table>\n",
       "</div>"
      ],
      "text/plain": [
       "     职位名称         工资  城市  出勤要求 实习周期                                     职位福利   \n",
       "0  大数据工程师  120-200/天  南京  4天/周  4个月  福利健全，地铁边，快速成长空间，直接参与项目，留用转正机会，学习型组织，年轻态  \\\n",
       "1  大数据实习生  100-150/天  北京  5天/周  3个月                                福利好，学习机会多   \n",
       "\n",
       "   公司名称       所属行业     公司规模                                               投递链接  \n",
       "0  焦点科技  互联网/游戏/软件  2000人以上  https://www.shixiseng.com/intern/inn_ccmmhmhpr...  \n",
       "1  新浪微博  互联网/游戏/软件  2000人以上  https://www.shixiseng.com/intern/inn_ez8n9imdo...  "
      ]
     },
     "execution_count": 10,
     "metadata": {},
     "output_type": "execute_result"
    }
   ],
   "source": [
    "data1.head(2)"
   ]
  },
  {
   "cell_type": "code",
   "execution_count": 11,
   "metadata": {},
   "outputs": [
    {
     "data": {
      "text/plain": [
       "array(['120-200/天', '100-150/天', '200-250/天', '120-150/天', '100-120/天',\n",
       "       '300-400/天', '150-200/天', '180-200/天', '80-120/天', '150/天',\n",
       "       '80-150/天', '100-200/天', '200/天', '200-300/天', '300/天',\n",
       "       '100-180/天', '120-180/天', '50-100/天', '150-180/天', '200-400/天',\n",
       "       '150-250/天', '250-300/天', '250-400/天', '150-300/天', '250-500/天',\n",
       "       '120/天', '180/天', '50-80/天', '180-300/天', '400-800/天', '180-250/天',\n",
       "       '400-500/天', '80-100/天', '100/天', '120-140/天', '300-500/天', '薪资面议',\n",
       "       '250/天', '318-363/天', '136-227/天', '181-363/天', '800-1000/天',\n",
       "       '181-272/天', '500-800/天', '49-50/天', '227-272/天'], dtype=object)"
      ]
     },
     "execution_count": 11,
     "metadata": {},
     "output_type": "execute_result"
    }
   ],
   "source": [
    "data1['工资'].unique()"
   ]
  },
  {
   "cell_type": "code",
   "execution_count": 12,
   "metadata": {},
   "outputs": [],
   "source": [
    "# 去除重复值\n",
    "data1.drop_duplicates(inplace = True)"
   ]
  },
  {
   "cell_type": "code",
   "execution_count": 14,
   "metadata": {},
   "outputs": [
    {
     "data": {
      "text/plain": [
       "(884, 10)"
      ]
     },
     "execution_count": 14,
     "metadata": {},
     "output_type": "execute_result"
    }
   ],
   "source": [
    "# 索引重置\n",
    "data1.index = range(data1.shape[0])\n",
    "data1.shape"
   ]
  },
  {
   "cell_type": "code",
   "execution_count": 15,
   "metadata": {},
   "outputs": [
    {
     "data": {
      "text/plain": [
       "(1043, 10)"
      ]
     },
     "execution_count": 15,
     "metadata": {},
     "output_type": "execute_result"
    }
   ],
   "source": [
    "data2.drop_duplicates(inplace = True)\n",
    "# 索引重置\n",
    "data2.index = range(data2.shape[0])\n",
    "data2.shape"
   ]
  },
  {
   "cell_type": "code",
   "execution_count": 16,
   "metadata": {},
   "outputs": [
    {
     "data": {
      "text/plain": [
       "(846, 10)"
      ]
     },
     "execution_count": 16,
     "metadata": {},
     "output_type": "execute_result"
    }
   ],
   "source": [
    "data3.drop_duplicates(inplace = True)\n",
    "# 索引重置\n",
    "data3.index = range(data3.shape[0])\n",
    "data3.shape"
   ]
  },
  {
   "attachments": {},
   "cell_type": "markdown",
   "metadata": {},
   "source": [
    "对薪水字段进行重新编码"
   ]
  },
  {
   "cell_type": "code",
   "execution_count": 18,
   "metadata": {},
   "outputs": [
    {
     "data": {
      "text/plain": [
       "array(['-/天', '/天', '薪资面议'], dtype='<U4')"
      ]
     },
     "execution_count": 18,
     "metadata": {},
     "output_type": "execute_result"
    }
   ],
   "source": [
    "# 初始化列表来接收正则提取后的每个字符串\n",
    "salary_list = []\n",
    "for i in range(len(data1)):\n",
    "    \n",
    "    # 使用正则表达式需要将每一列都转换为字符串形式\n",
    "    data1['工资'][i] = str(data1['工资'][i])\n",
    "    \n",
    "    # 注意join之后便为一个字符串，我们使用正则筛选掉数字和其它符号，findall在下列中只会切割每个字，[]表示或，()表示与，{}表示匹配次数\n",
    "    salary_list.append(''.join(re.findall(r'[^0-9\\.]', data1['工资'][i])))\n",
    "\n",
    "# 使用unique知道有多少种写法\n",
    "np.unique(salary_list)"
   ]
  },
  {
   "cell_type": "code",
   "execution_count": 19,
   "metadata": {},
   "outputs": [],
   "source": [
    "# 接下来，我们对薪水这一列的表示方法都统一规范为数字（千/月）\n",
    "for i in range(len(data1)):\n",
    "    data1['工资'][i] = str(data1['工资'][i])\n",
    "    \n",
    "    if re.findall(r'(.*)\\-(.*)\\/\\天', data1['工资'][i]):\n",
    "        # 注意下面的findall返回的是一个list of list的结构\n",
    "        s = re.findall(r'(.*)\\-(.*)\\/\\天', data1['工资'][i])[0]\n",
    "        # 保留小数点后两位\n",
    "        salary = np.round((float(s[0]) + float(s[1])) / 2 * 10 / 12, 2)\n",
    "        data1['工资'][i] = salary\n",
    "    \n",
    "    # 注意elif写法（else if）\n",
    "    elif re.findall(r'(.*)\\/\\天', data1['工资'][i]):\n",
    "        s = re.findall(r'(.*)\\/\\天', data1['工资'][i])[0]\n",
    "        salary = np.round((float(s[0]) + float(s[1])) / 2 * 10, 2)\n",
    "        data1['工资'][i] = salary"
   ]
  },
  {
   "cell_type": "code",
   "execution_count": 20,
   "metadata": {},
   "outputs": [
    {
     "data": {
      "text/html": [
       "<div>\n",
       "<style scoped>\n",
       "    .dataframe tbody tr th:only-of-type {\n",
       "        vertical-align: middle;\n",
       "    }\n",
       "\n",
       "    .dataframe tbody tr th {\n",
       "        vertical-align: top;\n",
       "    }\n",
       "\n",
       "    .dataframe thead th {\n",
       "        text-align: right;\n",
       "    }\n",
       "</style>\n",
       "<table border=\"1\" class=\"dataframe\">\n",
       "  <thead>\n",
       "    <tr style=\"text-align: right;\">\n",
       "      <th></th>\n",
       "      <th>职位名称</th>\n",
       "      <th>工资</th>\n",
       "      <th>城市</th>\n",
       "      <th>出勤要求</th>\n",
       "      <th>实习周期</th>\n",
       "      <th>职位福利</th>\n",
       "      <th>公司名称</th>\n",
       "      <th>所属行业</th>\n",
       "      <th>公司规模</th>\n",
       "      <th>投递链接</th>\n",
       "    </tr>\n",
       "  </thead>\n",
       "  <tbody>\n",
       "    <tr>\n",
       "      <th>0</th>\n",
       "      <td>大数据工程师</td>\n",
       "      <td>133.33</td>\n",
       "      <td>南京</td>\n",
       "      <td>4天/周</td>\n",
       "      <td>4个月</td>\n",
       "      <td>福利健全，地铁边，快速成长空间，直接参与项目，留用转正机会，学习型组织，年轻态</td>\n",
       "      <td>焦点科技</td>\n",
       "      <td>互联网/游戏/软件</td>\n",
       "      <td>2000人以上</td>\n",
       "      <td>https://www.shixiseng.com/intern/inn_ccmmhmhpr...</td>\n",
       "    </tr>\n",
       "    <tr>\n",
       "      <th>1</th>\n",
       "      <td>大数据实习生</td>\n",
       "      <td>104.17</td>\n",
       "      <td>北京</td>\n",
       "      <td>5天/周</td>\n",
       "      <td>3个月</td>\n",
       "      <td>福利好，学习机会多</td>\n",
       "      <td>新浪微博</td>\n",
       "      <td>互联网/游戏/软件</td>\n",
       "      <td>2000人以上</td>\n",
       "      <td>https://www.shixiseng.com/intern/inn_ez8n9imdo...</td>\n",
       "    </tr>\n",
       "    <tr>\n",
       "      <th>2</th>\n",
       "      <td>大数据实习生</td>\n",
       "      <td>187.5</td>\n",
       "      <td>北京</td>\n",
       "      <td>5天/周</td>\n",
       "      <td>3个月</td>\n",
       "      <td>90后氛围，大数据，人工智能，实习</td>\n",
       "      <td>智能通证</td>\n",
       "      <td>互联网/游戏/软件</td>\n",
       "      <td>15-50人</td>\n",
       "      <td>https://www.shixiseng.com/intern/inn_zq6nmvkjy...</td>\n",
       "    </tr>\n",
       "    <tr>\n",
       "      <th>3</th>\n",
       "      <td>大数据实习生</td>\n",
       "      <td>112.5</td>\n",
       "      <td>合肥</td>\n",
       "      <td>5天/周</td>\n",
       "      <td>6个月</td>\n",
       "      <td>有梦想，锻炼自我，交通生活方便，福利体检，扁平管理，学习内容多</td>\n",
       "      <td>科大讯飞</td>\n",
       "      <td>互联网/游戏/软件</td>\n",
       "      <td>2000人以上</td>\n",
       "      <td>https://www.shixiseng.com/intern/inn_wauvptzvr...</td>\n",
       "    </tr>\n",
       "    <tr>\n",
       "      <th>4</th>\n",
       "      <td>大数据实习生</td>\n",
       "      <td>91.67</td>\n",
       "      <td>武汉</td>\n",
       "      <td>5天/周</td>\n",
       "      <td>3个月</td>\n",
       "      <td>可留用，奖励多样，福利待遇好，正式员工名额，优秀导师，团队出游，乐趣多多，管理规范，轻松自由...</td>\n",
       "      <td>人人网</td>\n",
       "      <td>互联网/游戏/软件</td>\n",
       "      <td>2000人以上</td>\n",
       "      <td>https://www.shixiseng.com/intern/inn_yojsgyfao...</td>\n",
       "    </tr>\n",
       "  </tbody>\n",
       "</table>\n",
       "</div>"
      ],
      "text/plain": [
       "     职位名称      工资  城市  出勤要求 实习周期   \n",
       "0  大数据工程师  133.33  南京  4天/周  4个月  \\\n",
       "1  大数据实习生  104.17  北京  5天/周  3个月   \n",
       "2  大数据实习生   187.5  北京  5天/周  3个月   \n",
       "3  大数据实习生   112.5  合肥  5天/周  6个月   \n",
       "4  大数据实习生   91.67  武汉  5天/周  3个月   \n",
       "\n",
       "                                                职位福利  公司名称       所属行业   \n",
       "0            福利健全，地铁边，快速成长空间，直接参与项目，留用转正机会，学习型组织，年轻态  焦点科技  互联网/游戏/软件  \\\n",
       "1                                          福利好，学习机会多  新浪微博  互联网/游戏/软件   \n",
       "2                                  90后氛围，大数据，人工智能，实习  智能通证  互联网/游戏/软件   \n",
       "3                    有梦想，锻炼自我，交通生活方便，福利体检，扁平管理，学习内容多  科大讯飞  互联网/游戏/软件   \n",
       "4  可留用，奖励多样，福利待遇好，正式员工名额，优秀导师，团队出游，乐趣多多，管理规范，轻松自由...   人人网  互联网/游戏/软件   \n",
       "\n",
       "      公司规模                                               投递链接  \n",
       "0  2000人以上  https://www.shixiseng.com/intern/inn_ccmmhmhpr...  \n",
       "1  2000人以上  https://www.shixiseng.com/intern/inn_ez8n9imdo...  \n",
       "2   15-50人  https://www.shixiseng.com/intern/inn_zq6nmvkjy...  \n",
       "3  2000人以上  https://www.shixiseng.com/intern/inn_wauvptzvr...  \n",
       "4  2000人以上  https://www.shixiseng.com/intern/inn_yojsgyfao...  "
      ]
     },
     "execution_count": 20,
     "metadata": {},
     "output_type": "execute_result"
    }
   ],
   "source": [
    "data1.head()"
   ]
  },
  {
   "cell_type": "code",
   "execution_count": 23,
   "metadata": {},
   "outputs": [
    {
     "data": {
      "text/plain": [
       "array(['南京', '北京', '合肥', '武汉', '深圳', '青岛', '上海', '广州', '长沙', '嘉兴', '石家庄',\n",
       "       '成都', '全国', '杭州', '珠海', '苏州', '无锡', '宁波', '天津', '太原', '郑州', '许昌',\n",
       "       '南昌', '重庆', '佛山', '南宁', '大连', '西安', '金华', '荆州', '济南', '南通', '福州',\n",
       "       '常州', '沈阳', '商丘', '厦门', '北京市', '东莞', '廊坊'], dtype=object)"
      ]
     },
     "execution_count": 23,
     "metadata": {},
     "output_type": "execute_result"
    }
   ],
   "source": [
    "data1['城市'].unique()"
   ]
  },
  {
   "cell_type": "code",
   "execution_count": 24,
   "metadata": {},
   "outputs": [],
   "source": [
    "# 进行省份的划分，注意增加北京、天津、上海这三个地级市\n",
    "anhui = list(pd.read_csv('./区域划分/省级划分/安徽.txt', sep='aa', names=['txt'], engine='python', encoding='utf8').txt)\n",
    "fujian = list(pd.read_csv('./区域划分/省级划分/福建.txt', sep='aa', names=['txt'], engine='python', encoding='utf8').txt)\n",
    "gansu = list(pd.read_csv('./区域划分/省级划分/甘肃.txt', sep='aa', names=['txt'], engine='python', encoding='utf8').txt)\n",
    "guangdong = list(pd.read_csv('./区域划分/省级划分/广东.txt', sep='aa', names=['txt'], engine='python', encoding='utf8').txt)\n",
    "guangxi = list(pd.read_csv('./区域划分/省级划分/广西.txt', sep='aa', names=['txt'], engine='python', encoding='utf8').txt)\n",
    "guizhou = list(pd.read_csv('./区域划分/省级划分/贵州.txt', sep='aa', names=['txt'], engine='python', encoding='utf8').txt)\n",
    "hainan = list(pd.read_csv('./区域划分/省级划分/海南.txt', sep='aa', names=['txt'], engine='python', encoding='utf8').txt)\n",
    "hebei = list(pd.read_csv('./区域划分/省级划分/河北.txt', sep='aa', names=['txt'], engine='python', encoding='utf8').txt)\n",
    "henan = list(pd.read_csv('./区域划分/省级划分/河南.txt', sep='aa', names=['txt'], engine='python', encoding='utf8').txt)\n",
    "heilongjiang = list(pd.read_csv('./区域划分/省级划分/黑龙江.txt', sep='aa', names=['txt'], engine='python', encoding='utf8').txt)\n",
    "hubei = list(pd.read_csv('./区域划分/省级划分/湖北.txt', sep='aa', names=['txt'], engine='python', encoding='utf8').txt)\n",
    "hunan = list(pd.read_csv('./区域划分/省级划分/湖南.txt', sep='aa', names=['txt'], engine='python', encoding='utf8').txt)\n",
    "jilin = list(pd.read_csv('./区域划分/省级划分/吉林.txt', sep='aa', names=['txt'], engine='python', encoding='utf8').txt)\n",
    "jiangsu = list(pd.read_csv('./区域划分/省级划分/江苏.txt', sep='aa', names=['txt'], engine='python', encoding='utf8').txt)\n",
    "jiangxi = list(pd.read_csv('./区域划分/省级划分/江西.txt', sep='aa', names=['txt'], engine='python', encoding='utf8').txt)\n",
    "liaoning = list(pd.read_csv('./区域划分/省级划分/辽宁.txt', sep='aa', names=['txt'], engine='python', encoding='utf8').txt)\n",
    "neimenggu = list(pd.read_csv('./区域划分/省级划分/内蒙古.txt', sep='aa', names=['txt'], engine='python', encoding='utf8').txt)\n",
    "ningxia = list(pd.read_csv('./区域划分/省级划分/宁夏.txt', sep='aa', names=['txt'], engine='python', encoding='utf8').txt)\n",
    "qinghai = list(pd.read_csv('./区域划分/省级划分/青海.txt', sep='aa', names=['txt'], engine='python', encoding='utf8').txt)\n",
    "shandong = list(pd.read_csv('./区域划分/省级划分/山东.txt', sep='aa', names=['txt'], engine='python', encoding='utf8').txt)\n",
    "shanxi = list(pd.read_csv('./区域划分/省级划分/山西.txt', sep='aa', names=['txt'], engine='python', encoding='utf8').txt)\n",
    "shangxi = list(pd.read_csv('./区域划分/省级划分/陕西.txt', sep='aa', names=['txt'], engine='python', encoding='utf8').txt)\n",
    "sichuan = list(pd.read_csv('./区域划分/省级划分/四川.txt', sep='aa', names=['txt'], engine='python', encoding='utf8').txt)\n",
    "xizang = list(pd.read_csv('./区域划分/省级划分/西藏.txt', sep='aa', names=['txt'], engine='python', encoding='utf8').txt)\n",
    "xinjiang = list(pd.read_csv('./区域划分/省级划分/新疆.txt', sep='aa', names=['txt'], engine='python', encoding='utf8').txt)\n",
    "yunnan = list(pd.read_csv('./区域划分/省级划分/云南.txt', sep='aa', names=['txt'], engine='python', encoding='utf8').txt)\n",
    "zhejiang = list(pd.read_csv('./区域划分/省级划分/浙江.txt', sep='aa', names=['txt'], engine='python', encoding='utf8').txt)\n",
    "chongqing = list(pd.read_csv('./区域划分/省级划分/重庆.txt', sep='aa', names=['txt'], engine='python', encoding='utf8').txt)"
   ]
  },
  {
   "cell_type": "code",
   "execution_count": 25,
   "metadata": {},
   "outputs": [
    {
     "data": {
      "text/html": [
       "<div>\n",
       "<style scoped>\n",
       "    .dataframe tbody tr th:only-of-type {\n",
       "        vertical-align: middle;\n",
       "    }\n",
       "\n",
       "    .dataframe tbody tr th {\n",
       "        vertical-align: top;\n",
       "    }\n",
       "\n",
       "    .dataframe thead th {\n",
       "        text-align: right;\n",
       "    }\n",
       "</style>\n",
       "<table border=\"1\" class=\"dataframe\">\n",
       "  <thead>\n",
       "    <tr style=\"text-align: right;\">\n",
       "      <th></th>\n",
       "      <th>职位名称</th>\n",
       "      <th>工资</th>\n",
       "      <th>城市</th>\n",
       "      <th>出勤要求</th>\n",
       "      <th>实习周期</th>\n",
       "      <th>职位福利</th>\n",
       "      <th>公司名称</th>\n",
       "      <th>所属行业</th>\n",
       "      <th>公司规模</th>\n",
       "      <th>投递链接</th>\n",
       "      <th>省份</th>\n",
       "    </tr>\n",
       "  </thead>\n",
       "  <tbody>\n",
       "    <tr>\n",
       "      <th>0</th>\n",
       "      <td>大数据工程师</td>\n",
       "      <td>133.33</td>\n",
       "      <td>南京</td>\n",
       "      <td>4天/周</td>\n",
       "      <td>4个月</td>\n",
       "      <td>福利健全，地铁边，快速成长空间，直接参与项目，留用转正机会，学习型组织，年轻态</td>\n",
       "      <td>焦点科技</td>\n",
       "      <td>互联网/游戏/软件</td>\n",
       "      <td>2000人以上</td>\n",
       "      <td>https://www.shixiseng.com/intern/inn_ccmmhmhpr...</td>\n",
       "      <td>江苏</td>\n",
       "    </tr>\n",
       "    <tr>\n",
       "      <th>1</th>\n",
       "      <td>大数据实习生</td>\n",
       "      <td>104.17</td>\n",
       "      <td>北京</td>\n",
       "      <td>5天/周</td>\n",
       "      <td>3个月</td>\n",
       "      <td>福利好，学习机会多</td>\n",
       "      <td>新浪微博</td>\n",
       "      <td>互联网/游戏/软件</td>\n",
       "      <td>2000人以上</td>\n",
       "      <td>https://www.shixiseng.com/intern/inn_ez8n9imdo...</td>\n",
       "      <td>北京</td>\n",
       "    </tr>\n",
       "    <tr>\n",
       "      <th>2</th>\n",
       "      <td>大数据实习生</td>\n",
       "      <td>187.5</td>\n",
       "      <td>北京</td>\n",
       "      <td>5天/周</td>\n",
       "      <td>3个月</td>\n",
       "      <td>90后氛围，大数据，人工智能，实习</td>\n",
       "      <td>智能通证</td>\n",
       "      <td>互联网/游戏/软件</td>\n",
       "      <td>15-50人</td>\n",
       "      <td>https://www.shixiseng.com/intern/inn_zq6nmvkjy...</td>\n",
       "      <td>北京</td>\n",
       "    </tr>\n",
       "    <tr>\n",
       "      <th>3</th>\n",
       "      <td>大数据实习生</td>\n",
       "      <td>112.5</td>\n",
       "      <td>合肥</td>\n",
       "      <td>5天/周</td>\n",
       "      <td>6个月</td>\n",
       "      <td>有梦想，锻炼自我，交通生活方便，福利体检，扁平管理，学习内容多</td>\n",
       "      <td>科大讯飞</td>\n",
       "      <td>互联网/游戏/软件</td>\n",
       "      <td>2000人以上</td>\n",
       "      <td>https://www.shixiseng.com/intern/inn_wauvptzvr...</td>\n",
       "      <td>安徽</td>\n",
       "    </tr>\n",
       "    <tr>\n",
       "      <th>4</th>\n",
       "      <td>大数据实习生</td>\n",
       "      <td>91.67</td>\n",
       "      <td>武汉</td>\n",
       "      <td>5天/周</td>\n",
       "      <td>3个月</td>\n",
       "      <td>可留用，奖励多样，福利待遇好，正式员工名额，优秀导师，团队出游，乐趣多多，管理规范，轻松自由...</td>\n",
       "      <td>人人网</td>\n",
       "      <td>互联网/游戏/软件</td>\n",
       "      <td>2000人以上</td>\n",
       "      <td>https://www.shixiseng.com/intern/inn_yojsgyfao...</td>\n",
       "      <td>湖北</td>\n",
       "    </tr>\n",
       "  </tbody>\n",
       "</table>\n",
       "</div>"
      ],
      "text/plain": [
       "     职位名称      工资  城市  出勤要求 实习周期   \n",
       "0  大数据工程师  133.33  南京  4天/周  4个月  \\\n",
       "1  大数据实习生  104.17  北京  5天/周  3个月   \n",
       "2  大数据实习生   187.5  北京  5天/周  3个月   \n",
       "3  大数据实习生   112.5  合肥  5天/周  6个月   \n",
       "4  大数据实习生   91.67  武汉  5天/周  3个月   \n",
       "\n",
       "                                                职位福利  公司名称       所属行业   \n",
       "0            福利健全，地铁边，快速成长空间，直接参与项目，留用转正机会，学习型组织，年轻态  焦点科技  互联网/游戏/软件  \\\n",
       "1                                          福利好，学习机会多  新浪微博  互联网/游戏/软件   \n",
       "2                                  90后氛围，大数据，人工智能，实习  智能通证  互联网/游戏/软件   \n",
       "3                    有梦想，锻炼自我，交通生活方便，福利体检，扁平管理，学习内容多  科大讯飞  互联网/游戏/软件   \n",
       "4  可留用，奖励多样，福利待遇好，正式员工名额，优秀导师，团队出游，乐趣多多，管理规范，轻松自由...   人人网  互联网/游戏/软件   \n",
       "\n",
       "      公司规模                                               投递链接  省份  \n",
       "0  2000人以上  https://www.shixiseng.com/intern/inn_ccmmhmhpr...  江苏  \n",
       "1  2000人以上  https://www.shixiseng.com/intern/inn_ez8n9imdo...  北京  \n",
       "2   15-50人  https://www.shixiseng.com/intern/inn_zq6nmvkjy...  北京  \n",
       "3  2000人以上  https://www.shixiseng.com/intern/inn_wauvptzvr...  安徽  \n",
       "4  2000人以上  https://www.shixiseng.com/intern/inn_yojsgyfao...  湖北  "
      ]
     },
     "execution_count": 25,
     "metadata": {},
     "output_type": "execute_result"
    }
   ],
   "source": [
    "# 对31个省市进行遍历\n",
    "sheng_list = []\n",
    "for i in range(len(data1)):\n",
    "    if data1['城市'][i] in anhui:\n",
    "        sheng_list.append('安徽')\n",
    "    elif data1['城市'][i] in fujian:\n",
    "        sheng_list.append('福建')\n",
    "    elif data1['城市'][i] in gansu:\n",
    "        sheng_list.append('甘肃')\n",
    "    elif data1['城市'][i] in guangdong:\n",
    "        sheng_list.append('广东')\n",
    "    elif data1['城市'][i] in guangxi:\n",
    "        sheng_list.append('广西')\n",
    "    elif data1['城市'][i] in guizhou:\n",
    "        sheng_list.append('贵州')\n",
    "    elif data1['城市'][i] in hainan:\n",
    "        sheng_list.append('海南')\n",
    "    elif data1['城市'][i] in hebei:\n",
    "        sheng_list.append('河北')\n",
    "    elif data1['城市'][i] in henan:\n",
    "        sheng_list.append('河南')\n",
    "    elif data1['城市'][i] in heilongjiang:\n",
    "        sheng_list.append('黑龙江')\n",
    "    elif data1['城市'][i] in hubei:\n",
    "        sheng_list.append('湖北')\n",
    "    elif data1['城市'][i] in hunan:\n",
    "        sheng_list.append('湖南')\n",
    "    elif data1['城市'][i] in jilin:\n",
    "        sheng_list.append('吉林')\n",
    "    elif data1['城市'][i] in jiangsu:\n",
    "        sheng_list.append('江苏')\n",
    "    elif data1['城市'][i] in jiangxi:\n",
    "        sheng_list.append('江西')\n",
    "    elif data1['城市'][i] in liaoning:\n",
    "        sheng_list.append('辽宁')\n",
    "    elif data1['城市'][i] in neimenggu:\n",
    "        sheng_list.append('内蒙古')\n",
    "    elif data1['城市'][i] in ningxia:\n",
    "        sheng_list.append('宁夏')\n",
    "    elif data1['城市'][i] in qinghai:\n",
    "        sheng_list.append('青海')\n",
    "    elif data1['城市'][i] in shandong:\n",
    "        sheng_list.append('山东')\n",
    "    elif data1['城市'][i] in shanxi:\n",
    "        sheng_list.append('山西')\n",
    "    elif data1['城市'][i] in shangxi:\n",
    "        sheng_list.append('陕西')\n",
    "    elif data1['城市'][i] in sichuan:\n",
    "        sheng_list.append('四川')\n",
    "    elif data1['城市'][i] in xizang:\n",
    "        sheng_list.append('西藏')\n",
    "    elif data1['城市'][i] in xinjiang:\n",
    "        sheng_list.append('新疆')\n",
    "    elif data1['城市'][i] in yunnan:\n",
    "        sheng_list.append('云南')\n",
    "    elif data1['城市'][i] in zhejiang:\n",
    "        sheng_list.append('浙江')\n",
    "    elif data1['城市'][i] in chongqing:\n",
    "        sheng_list.append('重庆')\n",
    "    elif data1['城市'][i] == '北京':\n",
    "        sheng_list.append('北京')\n",
    "    elif data1['城市'][i] == '天津':\n",
    "        sheng_list.append('天津')\n",
    "    elif data1['城市'][i] == '上海':\n",
    "        sheng_list.append('上海')\n",
    "    else:\n",
    "        sheng_list.append('其它')\n",
    "data1['省份'] = sheng_list\n",
    "data1[:5]"
   ]
  },
  {
   "attachments": {},
   "cell_type": "markdown",
   "metadata": {},
   "source": [
    "数据保存"
   ]
  },
  {
   "cell_type": "code",
   "execution_count": 26,
   "metadata": {},
   "outputs": [],
   "source": [
    "data1.to_csv('./data_clear/clean_data/实习僧数据清洗1.csv', encoding = 'gb18030', index = None)"
   ]
  },
  {
   "cell_type": "code",
   "execution_count": 27,
   "metadata": {},
   "outputs": [
    {
     "data": {
      "text/plain": [
       "职位名称    0.0\n",
       "工资      0.0\n",
       "城市      0.0\n",
       "出勤要求    0.0\n",
       "实习周期    0.0\n",
       "职位福利    0.0\n",
       "公司名称    0.0\n",
       "所属行业    0.0\n",
       "公司规模    0.0\n",
       "投递链接    0.0\n",
       "省份      0.0\n",
       "dtype: float64"
      ]
     },
     "execution_count": 27,
     "metadata": {},
     "output_type": "execute_result"
    }
   ],
   "source": [
    "data1.isnull().mean()"
   ]
  },
  {
   "cell_type": "code",
   "execution_count": null,
   "metadata": {},
   "outputs": [],
   "source": []
  }
 ],
 "metadata": {
  "kernelspec": {
   "display_name": "venv",
   "language": "python",
   "name": "python3"
  },
  "language_info": {
   "codemirror_mode": {
    "name": "ipython",
    "version": 3
   },
   "file_extension": ".py",
   "mimetype": "text/x-python",
   "name": "python",
   "nbconvert_exporter": "python",
   "pygments_lexer": "ipython3",
   "version": "3.9.10"
  },
  "orig_nbformat": 4
 },
 "nbformat": 4,
 "nbformat_minor": 2
}
